{
  "nbformat": 4,
  "nbformat_minor": 0,
  "metadata": {
    "colab": {
      "name": "Rook Governance - Votes by Wallet",
      "provenance": [],
      "authorship_tag": "ABX9TyPdIea9GJRAZ8Mg8ae99gWg",
      "include_colab_link": true
    },
    "kernelspec": {
      "name": "python3",
      "display_name": "Python 3"
    },
    "language_info": {
      "name": "python"
    }
  },
  "cells": [
    {
      "cell_type": "markdown",
      "metadata": {
        "id": "view-in-github",
        "colab_type": "text"
      },
      "source": [
        "<a href=\"https://colab.research.google.com/github/0xstubbs/Rook-Governance/blob/main/Rook_Governance_Votes_by_Wallet.ipynb\" target=\"_parent\"><img src=\"https://colab.research.google.com/assets/colab-badge.svg\" alt=\"Open In Colab\"/></a>"
      ]
    },
    {
      "cell_type": "markdown",
      "source": [
        "This notebook takes a look at Rook Token holders over time. The purpose is to: \n",
        "\n",
        "1.   Determine token distribution over time.\n",
        "2.   Determine quorum requirements\n",
        "\n"
      ],
      "metadata": {
        "id": "fFKoEfkvVrEe"
      }
    },
    {
      "cell_type": "code",
      "source": [
        "import pandas as pd\n",
        "import numpy as np\n",
        "import altair as alt"
      ],
      "metadata": {
        "id": "ER3ipaWbV8j1"
      },
      "execution_count": null,
      "outputs": []
    },
    {
      "cell_type": "code",
      "source": [
        ""
      ],
      "metadata": {
        "id": "ZiBOswTlV3Ig"
      },
      "execution_count": null,
      "outputs": []
    }
  ]
}